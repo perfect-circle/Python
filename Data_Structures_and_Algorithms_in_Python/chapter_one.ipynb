{
 "cells": [
  {
   "cell_type": "markdown",
   "metadata": {},
   "source": [
    "1.1 编写一个Python函数 is_multiple(n, m)，用来接收两个整数值 n 和 m，如果 n 是 m 的倍数，即存在整数 i 使得 n = mi，那么函数返回 True，否则返回 False："
   ]
  },
  {
   "cell_type": "code",
   "execution_count": 1,
   "metadata": {},
   "outputs": [],
   "source": [
    "def is_multiple(n,m):\n",
    "    return (n % m == 0)"
   ]
  },
  {
   "cell_type": "markdown",
   "metadata": {},
   "source": [
    "1.2 编写一个Python函数 is_even(k)，用来接收一个整数 k,如果 k 是偶数返回 True，否则返回 False。但是，函数中不能使用乘法、除法或取余操作."
   ]
  },
  {
   "cell_type": "code",
   "execution_count": 2,
   "metadata": {},
   "outputs": [],
   "source": [
    "def is_even(k):\n",
    "    k = abs(k)\n",
    "    while k > 1:\n",
    "        k -= 2\n",
    "    return (k == 0)"
   ]
  },
  {
   "cell_type": "markdown",
   "metadata": {},
   "source": [
    "1.3 编写一个Python函数 minmax(data)，用来在数的序列中找出最小数和最大数，并以一个长度为 2 的元组的形式返回。注意：不能通过内置函数 min 和 max 来实现。"
   ]
  },
  {
   "cell_type": "code",
   "execution_count": 3,
   "metadata": {},
   "outputs": [],
   "source": [
    "def minmax(data):\n",
    "    maxv = data[0]\n",
    "    minv = data[0]\n",
    "    for item in data:\n",
    "        if item > maxv:\n",
    "            maxv = item\n",
    "        if item < minv:\n",
    "            minv = item\n",
    "    return minv, maxv"
   ]
  },
  {
   "cell_type": "markdown",
   "metadata": {},
   "source": [
    "1.4 编写一个Python函数，用来接收正整数 n，返回 1 ~ n 的平方和。"
   ]
  },
  {
   "cell_type": "code",
   "execution_count": 4,
   "metadata": {},
   "outputs": [],
   "source": [
    "def SumOfSquare(n):\n",
    "    result = 0\n",
    "    for x in range(1,n+1):\n",
    "        result += x ** 2\n",
    "    return result"
   ]
  },
  {
   "cell_type": "markdown",
   "metadata": {},
   "source": [
    "1.5 基于Python的解析语法和内置函数 sum，写一个单独的命令来计算练习R-1.4中的和。"
   ]
  },
  {
   "cell_type": "code",
   "execution_count": 5,
   "metadata": {},
   "outputs": [],
   "source": [
    "def SumOfSquare2(n):\n",
    "    return sum([x ** 2 for x in range(1,n+1)])\n",
    "    \n",
    "def SumOfSquare3(n):\n",
    "    return sum(list(map(lambda x:x ** 2, range(1, n+1))))"
   ]
  },
  {
   "cell_type": "markdown",
   "metadata": {},
   "source": [
    "1.6 编写一个Python函数，用来接收正整数n，并返回 1 ~ n 中所有的奇数的平方和。"
   ]
  },
  {
   "cell_type": "code",
   "execution_count": 6,
   "metadata": {},
   "outputs": [],
   "source": [
    "def SquareSumOfOdd(n):\n",
    "    result = 0\n",
    "    for items in range(1,n+1):\n",
    "        if items % 2 != 0:\n",
    "            result += items ** 2\n",
    "    return result"
   ]
  },
  {
   "cell_type": "markdown",
   "metadata": {},
   "source": [
    "1.7 基于Python的解析语法和内置函数 sum，写一个单独的命令来计算练习R-1.6中的和。"
   ]
  },
  {
   "cell_type": "code",
   "execution_count": 7,
   "metadata": {},
   "outputs": [],
   "source": [
    "def SquareSumOfOdd(n):\n",
    "    return sum([x ** 2 for x in range(1, n+1) if x % 2 != 0])"
   ]
  },
  {
   "cell_type": "markdown",
   "metadata": {},
   "source": [
    "1.8 Python 允许负整数作为序列的索引值，如一个长度为 n 的字符串 s，当索引值 -n ≤ \\leq≤ k < 0 时，所指的元素为 s[k]，那么求一个正整数索引值 j ⩾ \\geqslant⩾ 0，使得 s[j] 指向的也是相同的元素。"
   ]
  }
 ],
 "metadata": {
  "kernelspec": {
   "display_name": "Python 3",
   "language": "python",
   "name": "python3"
  },
  "language_info": {
   "codemirror_mode": {
    "name": "ipython",
    "version": 3
   },
   "file_extension": ".py",
   "mimetype": "text/x-python",
   "name": "python",
   "nbconvert_exporter": "python",
   "pygments_lexer": "ipython3",
   "version": "3.8.3"
  }
 },
 "nbformat": 4,
 "nbformat_minor": 4
}
